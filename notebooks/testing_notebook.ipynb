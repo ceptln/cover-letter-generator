{
 "cells": [
  {
   "cell_type": "code",
   "execution_count": null,
   "metadata": {},
   "outputs": [],
   "source": [
    "from PyPDF2 import PdfReader\n",
    "import openai\n",
    "import datetime\n",
    "from docx import Document\n",
    "from docx.shared import Pt, Cm\n",
    "\n",
    "import os\n",
    "os.chdir('..')\n",
    "import utils\n",
    "import main \n",
    "openai.api_key = utils.open_file('openai_api_key.txt')"
   ]
  },
  {
   "attachments": {},
   "cell_type": "markdown",
   "metadata": {},
   "source": [
    "# CV"
   ]
  },
  {
   "attachments": {},
   "cell_type": "markdown",
   "metadata": {},
   "source": [
    "## PDF extraction"
   ]
  },
  {
   "cell_type": "code",
   "execution_count": null,
   "metadata": {},
   "outputs": [],
   "source": [
    "# creating a pdf reader object\n",
    "reader = PdfReader('files/cv.pdf')\n",
    "  \n",
    "# printing number of pages in pdf file\n",
    "print(len(reader.pages))\n",
    "  \n",
    "# getting a specific page from the pdf file\n",
    "page = reader.pages[0]\n",
    "  \n",
    "# extracting text from page\n",
    "text = page.extract_text().strip().replace('É', 'E')\n",
    "text"
   ]
  },
  {
   "attachments": {},
   "cell_type": "markdown",
   "metadata": {},
   "source": [
    "## Content extraction"
   ]
  },
  {
   "cell_type": "code",
   "execution_count": null,
   "metadata": {},
   "outputs": [],
   "source": [
    "cv_discussion = [\n",
    "    {\"role\": \"system\", \"content\": \"You are a smart CV parser, you extract specific elements from curriculum vitae and output them in a specific format. When asked, output the desired format only, no human response.\"},\n",
    "    {\"role\": \"user\", \"content\": f\"Here is the CV that you are going to parse: <<{text}>>\"},\n",
    "    {\"role\": \"assistant\", \"content\": \"What specific elements do you want me to extract?\"},\n",
    "    {\"role\": \"user\", \"content\": f\"I want you to extract the professional experiences and the tasks/missions performed at each position\"},\n",
    "    {\"role\": \"assistant\", \"content\": \"What is the expected output format?\"},\n",
    "]\n",
    "\n",
    "experience_prompt = \"Expected output format:\\n[Company name]: [Job title]\\n- Duration: [Start date] - [End date]\\n- Tasks:\\n  - [Task description 1]\\n  - [Task description 2]\\n  - [Task description 3]\\n...\\n\\nAnswer the formatted output only, add nothing else, be exhaustive and copy paste the missions descriptions as they are. Freelance experiences count (skip the [Company Name] part). Do it now.\"\n",
    "experience, cv_discussion = utils.gpt3_chat(message=experience_prompt, messages=cv_discussion)\n",
    "print(experience)"
   ]
  },
  {
   "cell_type": "code",
   "execution_count": null,
   "metadata": {},
   "outputs": [],
   "source": [
    "education_prompt = \"Perfect. Do the same with the education part now. Expected output format:\\n[School Name]:\\n- Duration: [Start date] - [End date]\\n- Degree: [Degree]\\n- [Courses]: [List courses]\\n...\\n\\nAnswer the formatted output only, add nothing else.\"\n",
    "education, cv_discussion = utils.gpt3_chat(message=education_prompt, messages=cv_discussion)\n",
    "print(education)"
   ]
  },
  {
   "cell_type": "code",
   "execution_count": null,
   "metadata": {},
   "outputs": [],
   "source": [
    "name_prompt = \"Perfect. What is the name on the CV? Just answer the name, nothing else. For example if the name is 'Bill Gates', just output 'Bill Gates'\"\n",
    "name, cv_discussion = utils.gpt3_chat(message=name_prompt, messages=cv_discussion)\n",
    "name = utils.clean_word_output(name)\n",
    "print(name)"
   ]
  },
  {
   "cell_type": "code",
   "execution_count": null,
   "metadata": {},
   "outputs": [],
   "source": [
    "degree_and_school_names_prompt = \"If the candidate graduating from a school in 2023, ouput '[Degree] at [School Name]' only. If it's not the case, just output 'Not graduating'\"\n",
    "degree_and_school_names, cv_discussion = utils.gpt3_chat(message=degree_and_school_names_prompt, messages=cv_discussion)\n",
    "print(degree_and_school_names)"
   ]
  },
  {
   "cell_type": "code",
   "execution_count": null,
   "metadata": {},
   "outputs": [],
   "source": [
    "current_position_prompt = \"If the candidate is currently working (i.e. if a professional experience is still ongoing), output '[Job title] at [Company name]' only. If it's not the case, just output 'Not working'.\"\n",
    "current_position, cv_discussion = utils.gpt3_chat(message=current_position_prompt, messages=cv_discussion)\n",
    "current_position"
   ]
  },
  {
   "cell_type": "code",
   "execution_count": null,
   "metadata": {},
   "outputs": [],
   "source": [
    "is_gratuating = 'not graduating' not in degree_and_school_names.lower()\n",
    "print(is_gratuating)\n",
    "\n",
    "is_working = 'not working' not in current_position.lower()\n",
    "print(is_working)"
   ]
  },
  {
   "attachments": {},
   "cell_type": "markdown",
   "metadata": {},
   "source": [
    "# Job offer"
   ]
  },
  {
   "attachments": {},
   "cell_type": "markdown",
   "metadata": {},
   "source": [
    "## Scraping"
   ]
  },
  {
   "cell_type": "code",
   "execution_count": null,
   "metadata": {},
   "outputs": [],
   "source": [
    "import requests\n",
    "from bs4 import BeautifulSoup"
   ]
  },
  {
   "cell_type": "code",
   "execution_count": null,
   "metadata": {},
   "outputs": [],
   "source": [
    "# url = \"https://www.welcometothejungle.com/fr/companies/ouicar/jobs/senior-data-scientist_paris?q=ef63906a45dcc458384ffbf2f2dbf3b9&o=1766155\"\n",
    "url = \"https://lydiasolutions.teamtailor.com/jobs/2605845-data-scientist\"\n",
    "page = requests.get(url)"
   ]
  },
  {
   "cell_type": "code",
   "execution_count": null,
   "metadata": {},
   "outputs": [],
   "source": [
    "soup = BeautifulSoup(page.content, 'html.parser')"
   ]
  },
  {
   "cell_type": "code",
   "execution_count": null,
   "metadata": {},
   "outputs": [],
   "source": [
    "job_desc = ' '.join([el.text for el in soup.find_all('p') if 'cookie' not in el.text])"
   ]
  },
  {
   "cell_type": "code",
   "execution_count": null,
   "metadata": {},
   "outputs": [],
   "source": [
    "job_desc"
   ]
  },
  {
   "attachments": {},
   "cell_type": "markdown",
   "metadata": {},
   "source": [
    "## Content extraction"
   ]
  },
  {
   "cell_type": "code",
   "execution_count": null,
   "metadata": {},
   "outputs": [],
   "source": [
    "offer_discussion = [\n",
    "    {\"role\": \"system\", \"content\": \"You are a smart Job Description Parser. You extract specific elements from job offers and output them in a specific format. You answer in English only, and translate if needed.\"},\n",
    "    {\"role\": \"user\", \"content\": f\"Here is the job description that you are going to parse: <<{job_desc}>>\"},\n",
    "    {\"role\": \"assistant\", \"content\": \"What specific elements do you want me to extract?\"}\n",
    "]\n",
    "\n",
    "missions_prompt = f\"Extract, sum up and list the 3 main missions of this job. Answer in English only and go straight to the 3 points, no introduction sentence.\"\n",
    "missions, offer_discussion = utils.gpt3_chat(message=missions_prompt, messages=offer_discussion)\n",
    "print(missions)"
   ]
  },
  {
   "cell_type": "code",
   "execution_count": null,
   "metadata": {},
   "outputs": [],
   "source": [
    "job_title_prompt = f\"Extract the job title (if the job title is not clearly mentioned, imagine what it could be). Output the job title only, do not make a sentence. For example, if the job title is Marketing Lead, you must output 'Marketing Lead' only.\"\n",
    "job_title, offer_discussion = utils.gpt3_chat(message=job_title_prompt, messages=offer_discussion)\n",
    "job_title = utils.clean_word_output(job_title)\n",
    "job_title"
   ]
  },
  {
   "cell_type": "code",
   "execution_count": null,
   "metadata": {},
   "outputs": [],
   "source": [
    "company_name_prompt = f\"Extract the name of the company. If the company name is not clearly mentioned, anwser 'XXX'. Output the company name only, do not make a sentence. For example, if the company name is Microsoft, you must output 'Microsoft' only.\"\n",
    "company_name, offer_discussion = utils.gpt3_chat(message=company_name_prompt, messages=offer_discussion)\n",
    "company_name = utils.clean_word_output(company_name)\n",
    "company_name"
   ]
  },
  {
   "cell_type": "code",
   "execution_count": null,
   "metadata": {},
   "outputs": [],
   "source": [
    "motivations_prompt = f\"Extract, sum up and list the 3 main reasons why it is an amazing opportunity for the candidate to work as a {job_title} at {company_name}. Insist on the company's strengths (ex: leader in its domain, great corporate culture, fast-growing environment) and on its mission. Answer in English only and go straight to the 3 points, no introduction sentence.\"\n",
    "motivations, offer_discussion = utils.gpt3_chat(message=motivations_prompt, messages=offer_discussion)\n",
    "print(motivations)"
   ]
  },
  {
   "attachments": {},
   "cell_type": "markdown",
   "metadata": {},
   "source": [
    "# Cover Letter"
   ]
  },
  {
   "attachments": {},
   "cell_type": "markdown",
   "metadata": {},
   "source": [
    "## Create blocks"
   ]
  },
  {
   "cell_type": "code",
   "execution_count": null,
   "metadata": {},
   "outputs": [],
   "source": [
    "# Export checkpoints\n",
    "# checkpoints = {\n",
    "#     'experience': experience,\n",
    "#     'education': education,\n",
    "#     'name': name,\n",
    "#     'degree_and_school_names': degree_and_school_names,\n",
    "#     'current_position': current_position,\n",
    "#     'is_gratuating': is_gratuating,\n",
    "#     'is_working': is_working,\n",
    "#     'missions': missions,\n",
    "#     'job_title': job_title,\n",
    "#     'company_name': company_name,\n",
    "#     'motivations': motivations\n",
    "# }\n",
    "\n",
    "# def write_checkpoint(file_name, text):\n",
    "#     with open(f\"checkpoints/{file_name}.txt\", 'w') as outfile:\n",
    "#         outfile.write(text)\n",
    "\n",
    "# for k, v in checkpoints.items():\n",
    "#     write_checkpoint(k, str(v))"
   ]
  },
  {
   "cell_type": "code",
   "execution_count": null,
   "metadata": {},
   "outputs": [],
   "source": [
    "# # Load checkpoints\n",
    "# experience = utils.open_file(\"checkpoints/experience.txt\")\n",
    "# education = utils.open_file(\"checkpoints/education.txt\")\n",
    "# name = utils.open_file(\"checkpoints/name.txt\")\n",
    "# degree_and_school_names = utils.open_file(\"checkpoints/degree_and_school_names.txt\")\n",
    "# current_position = utils.open_file(\"checkpoints/current_position.txt\")\n",
    "# is_gratuating = bool(utils.open_file(\"checkpoints/is_gratuating.txt\"))\n",
    "# is_working = bool(utils.open_file(\"checkpoints/is_working.txt\"))\n",
    "# missions = utils.open_file(\"checkpoints/missions.txt\")\n",
    "# job_title = utils.open_file(\"checkpoints/job_title.txt\")\n",
    "# company_name = utils.open_file(\"checkpoints/company_name.txt\")\n",
    "# motivations = utils.open_file(\"checkpoints/motivations.txt\")"
   ]
  },
  {
   "cell_type": "code",
   "execution_count": null,
   "metadata": {},
   "outputs": [],
   "source": [
    "prompt_filling_dict = {'<<EXPERIENCE>>': experience,\n",
    "                       '<<EDUCATION>>': education,\n",
    "                       '<<NAME>>': name,\n",
    "                       '<<DEGREE_AND_SCHOOL_NAMES>>': degree_and_school_names,\n",
    "                       '<<CURRENT_POSITION>>': current_position,\n",
    "                       '<<IS_GRATUATING>>': is_gratuating,\n",
    "                       '<<IS_WORKING>>': is_working,\n",
    "                       '<<MISSIONS>>': missions,\n",
    "                       '<<JOB_TITLE>>': job_title,\n",
    "                       '<<COMPANY_NAME>>': company_name,\n",
    "                       '<<MOTIVATIONS>>': motivations}"
   ]
  },
  {
   "cell_type": "code",
   "execution_count": null,
   "metadata": {},
   "outputs": [],
   "source": [
    "# Date\n",
    "now = datetime.datetime.now()\n",
    "date_block = f\"{now.strftime('%B')} {now.strftime('%d')}, {now.strftime('%Y')}\"\n",
    "print(date_block)"
   ]
  },
  {
   "cell_type": "code",
   "execution_count": null,
   "metadata": {},
   "outputs": [],
   "source": [
    "# Subject\n",
    "prompt_path = \"prompts/cl_subject.txt\"\n",
    "subject_block = utils.fill_prompt(utils.open_file(prompt_path), prompt_filling_dict)\n",
    "print(subject_block)\n"
   ]
  },
  {
   "cell_type": "code",
   "execution_count": null,
   "metadata": {},
   "outputs": [],
   "source": [
    "salutations_block = 'Dear Sir or Madam,'"
   ]
  },
  {
   "cell_type": "code",
   "execution_count": null,
   "metadata": {},
   "outputs": [],
   "source": [
    "# Intro \n",
    "if is_gratuating and is_working:\n",
    "    prompt_path = \"prompts/cl_intro_graduate_working.txt\"\n",
    "elif is_gratuating:\n",
    "    prompt_path = \"prompts/cl_intro_graduate.txt\"\n",
    "elif is_working:\n",
    "    prompt_path = \"prompts/cl_intro_working.txt\"\n",
    "else:\n",
    "    prompt_path = \"prompts/cl_intro_standard.txt\"\n",
    "\n",
    "prompt = utils.fill_prompt(utils.open_file(prompt_path), prompt_filling_dict)\n",
    "print(prompt)\n",
    "intro_block = utils.gpt3_completion(prompt, temp=0, tokens=100)\n",
    "print(intro_block)\n"
   ]
  },
  {
   "cell_type": "code",
   "execution_count": null,
   "metadata": {},
   "outputs": [],
   "source": [
    "# Motivations\n",
    "prompt_path = \"prompts/cl_motivations.txt\"\n",
    "\n",
    "prompt = utils.fill_prompt(utils.open_file(prompt_path), prompt_filling_dict)\n",
    "print(prompt)\n",
    "motivations_block = utils.gpt3_completion(prompt, temp=0, tokens=300).replace('\\n', '')\n",
    "print(motivations_block)"
   ]
  },
  {
   "cell_type": "code",
   "execution_count": null,
   "metadata": {},
   "outputs": [],
   "source": [
    "# Experiences\n",
    "prompt_path = \"prompts/cl_experiences.txt\"\n",
    "experience_transition = 'I am confident that my previous experiences demonstrate my alignment with these three motivations and explain my eagerness to work as <<JOB_TITLE>> at <<COMPANY_NAME>>. '\n",
    "experience_transition = utils.fill_prompt(experience_transition, prompt_filling_dict)\n",
    "\n",
    "prompt = utils.fill_prompt(utils.open_file(prompt_path), prompt_filling_dict)\n",
    "print(prompt)\n",
    "experiences_block = utils.gpt3_completion(prompt, temp=0, tokens=300).replace('\\n', '')\n",
    "experiences_block = experience_transition + experiences_block\n",
    "print(experiences_block)"
   ]
  },
  {
   "cell_type": "code",
   "execution_count": null,
   "metadata": {},
   "outputs": [],
   "source": [
    "# Education\n",
    "prompt_path = \"prompts/cl_education.txt\"\n",
    "\n",
    "prompt = utils.fill_prompt(utils.open_file(prompt_path), prompt_filling_dict)\n",
    "print(prompt)\n",
    "education_block = utils.gpt3_completion(prompt, temp=0, tokens=300).replace('\\n', '')\n",
    "print(education_block)"
   ]
  },
  {
   "cell_type": "code",
   "execution_count": null,
   "metadata": {},
   "outputs": [],
   "source": [
    "# Missions\n",
    "prompt_path = \"prompts/cl_missions.txt\"\n",
    "\n",
    "prompt = utils.fill_prompt(utils.open_file(prompt_path), prompt_filling_dict)\n",
    "print(prompt)\n",
    "missions_block = utils.gpt3_completion(prompt, temp=0, tokens=300).replace('\\n', '')\n",
    "print(missions_block)"
   ]
  },
  {
   "cell_type": "code",
   "execution_count": null,
   "metadata": {},
   "outputs": [],
   "source": [
    "# Greeting\n",
    "prompt_path = \"prompts/cl_greeting.txt\"\n",
    "greeting_block = utils.fill_prompt(utils.open_file(prompt_path), prompt_filling_dict)\n",
    "print(greeting_block)"
   ]
  },
  {
   "cell_type": "code",
   "execution_count": null,
   "metadata": {},
   "outputs": [],
   "source": [
    "# Closing\n",
    "closing_block = 'Yours sincerely,'"
   ]
  },
  {
   "attachments": {},
   "cell_type": "markdown",
   "metadata": {},
   "source": [
    "## Assemble blocks"
   ]
  },
  {
   "cell_type": "code",
   "execution_count": null,
   "metadata": {},
   "outputs": [],
   "source": [
    "# CL\n",
    "prompt_path = \"prompts/cl_body.txt\"\n",
    "blocks = {'<<DATE>>': date_block, \n",
    "          '<<SUBJECT>>': subject_block,\n",
    "          '<<SALUTATIONS>>': salutations_block,\n",
    "          '<<INTRO>>': intro_block, \n",
    "          '<<MOTIVATIONS>>': motivations_block,\n",
    "          '<<EXPERIENCES>>': experiences_block,\n",
    "          '<<EDUCATION>>': education_block,\n",
    "          '<<MISSIONS>>': missions_block,\n",
    "          '<<GREETING>>': greeting_block,\n",
    "          '<<CANDIDATE_NAME>>': name\n",
    "}\n",
    "\n",
    "\n",
    "print(utils.fill_prompt(utils.open_file(prompt_path), blocks))"
   ]
  },
  {
   "cell_type": "code",
   "execution_count": null,
   "metadata": {},
   "outputs": [],
   "source": [
    "document = Document()\n",
    "\n",
    "sections = document.sections\n",
    "for section in sections:\n",
    "    section.top_margin = Cm(3)\n",
    "    section.bottom_margin = Cm(2)\n",
    "    section.left_margin = Cm(2.5)\n",
    "    section.right_margin = Cm(2.5)\n",
    "\n",
    "date = document.add_paragraph(date_block)\n",
    "date.alignment = 2\n",
    "document.add_paragraph()\n",
    "\n",
    "subject = document.add_paragraph()\n",
    "subject.add_run(subject_block).bold = True\n",
    "subject.alignment = 3\n",
    "\n",
    "salutations = document.add_paragraph(salutations_block)\n",
    "\n",
    "for block in [intro_block, motivations_block, experiences_block, education_block, missions_block, greeting_block]:\n",
    "    p = document.add_paragraph(block)\n",
    "    p.alignment = 3\n",
    "\n",
    "closing = document.add_paragraph(closing_block)\n",
    "\n",
    "document.add_paragraph()\n",
    "signature = document.add_paragraph(name)\n",
    "signature.alignment = 2\n",
    "\n",
    "style = document.styles['Normal']\n",
    "font = style.font\n",
    "font.name = 'Times New Roman'\n",
    "font.size = Pt(9.5)\n",
    "\n",
    "\n",
    "job_title = job_title.replace(' ', '_').lower()\n",
    "company_name = company_name.replace(' ', '_').lower()\n",
    "current_datetime = now.strftime('%Y%m%d') + '_' + now.strftime('%H%M%S')\n",
    "document.save(f'results/cl_{company_name}_{job_title}_{current_datetime}.docx')"
   ]
  },
  {
   "cell_type": "code",
   "execution_count": null,
   "metadata": {},
   "outputs": [],
   "source": [
    "def create_cover_letter(cl_blocks):\n",
    "    document = Document()\n",
    "\n",
    "    sections = document.sections\n",
    "    for section in sections:\n",
    "        section.top_margin = Cm(3)\n",
    "        section.bottom_margin = Cm(2)\n",
    "        section.left_margin = Cm(2.5)\n",
    "        section.right_margin = Cm(2.5)\n",
    "\n",
    "    date = document.add_paragraph(cl_blocks['date_block'])\n",
    "    date.alignment = 2\n",
    "    document.add_paragraph()\n",
    "\n",
    "    subject = document.add_paragraph()\n",
    "    subject.add_run(cl_blocks['subject_block']).bold = True\n",
    "    subject.alignment = 3\n",
    "\n",
    "    salutations = document.add_paragraph(cl_blocks['salutations_block'])\n",
    "\n",
    "    for block in [cl_blocks['intro_block'], cl_blocks['motivations_block'], cl_blocks['experiences_block'], cl_blocks['education_block'], cl_blocks['missions_block'], cl_blocks['greeting_block']]:\n",
    "        p = document.add_paragraph(block)\n",
    "        p.alignment = 3\n",
    "\n",
    "    closing = document.add_paragraph(cl_blocks['closing_block'])\n",
    "\n",
    "    document.add_paragraph()\n",
    "    signature = document.add_paragraph(name)\n",
    "    signature.alignment = 2\n",
    "\n",
    "    style = document.styles['Normal']\n",
    "    font = style.font\n",
    "    font.name = 'Times New Roman'\n",
    "    font.size = Pt(9.5)\n",
    "\n",
    "\n",
    "    job_title = job_title.replace(' ', '_').lower()\n",
    "    company_name = company_name.replace(' ', '_').lower()\n",
    "    current_datetime = now.strftime('%Y%m%d') + '_' + now.strftime('%H%M%S')\n",
    "    document.save(f'results/cl_{company_name}_{job_title}_{current_datetime}.docx')\n",
    "    return document\n"
   ]
  },
  {
   "attachments": {},
   "cell_type": "markdown",
   "metadata": {},
   "source": [
    "# Run all"
   ]
  },
  {
   "cell_type": "code",
   "execution_count": null,
   "metadata": {},
   "outputs": [],
   "source": [
    "url = \"https://www.welcometothejungle.com/fr/companies/mirakl/jobs/senior-data-scientist_paris_MIRAK_Dj4bY8?q=4633b4d5fd725173ac7a70679fa76096&o=1249537\"\n",
    "print('scraping the url and extracting content...')\n",
    "offer = main.extract_text_from_url(url)\n",
    "print('extracting content from CV...')\n",
    "cv = main.extract_text_from_pdf('files/cv.pdf')\n",
    "print('checking that the file provided is a CV and the url refers a job offer...')\n",
    "if not main.is_a_cv(cv):\n",
    "    print('Sorry buddy, but the CV you uploaded does not look like a CV 🤯')\n",
    "elif not main.is_a_job_offer(offer):\n",
    "    print('Sorry buddy, but the URL you provided does not look like job offer 🤯')\n",
    "else:\n",
    "    pass"
   ]
  },
  {
   "cell_type": "code",
   "execution_count": null,
   "metadata": {},
   "outputs": [],
   "source": [
    "print('parsing the CV to extract specific content...')\n",
    "cv_content = main.extract_content_from_CV(cv)"
   ]
  },
  {
   "cell_type": "code",
   "execution_count": null,
   "metadata": {},
   "outputs": [],
   "source": [
    "print('parsing the job offer to extract specific content...')\n",
    "offer_content = main.extract_content_from_offer(offer)\n",
    "prompt_filling_dict = main.create_prompt_filling_dict(cv_content, offer_content)"
   ]
  },
  {
   "cell_type": "code",
   "execution_count": null,
   "metadata": {},
   "outputs": [],
   "source": [
    "print('creating the different cover letter blocks...')\n",
    "cl_blocks = main.create_cover_letter_blocks(prompt_filling_dict)\n",
    "print('creating the word document...')\n",
    "document = main.create_cover_letter(cl_blocks)"
   ]
  }
 ],
 "metadata": {
  "kernelspec": {
   "display_name": "cl-generator",
   "language": "python",
   "name": "python3"
  },
  "language_info": {
   "codemirror_mode": {
    "name": "ipython",
    "version": 3
   },
   "file_extension": ".py",
   "mimetype": "text/x-python",
   "name": "python",
   "nbconvert_exporter": "python",
   "pygments_lexer": "ipython3",
   "version": "3.10.10"
  },
  "orig_nbformat": 4
 },
 "nbformat": 4,
 "nbformat_minor": 2
}
